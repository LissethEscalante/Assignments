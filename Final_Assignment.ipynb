{
 "cells": [
  {
   "cell_type": "markdown",
   "metadata": {},
   "source": [
    "|Name|ANR|\n",
    "|----|---|\n",
    "|Lisseth Escalante||658342|"
   ]
  },
  {
   "cell_type": "markdown",
   "metadata": {},
   "source": [
    "# Relationship between countries' economic importance and countries' information available on the internet"
   ]
  },
  {
   "cell_type": "markdown",
   "metadata": {},
   "source": [
    "## Question"
   ]
  },
  {
   "cell_type": "markdown",
   "metadata": {},
   "source": [
    "Is there a relationship between countries' economic importance and countries' information available on the internet?"
   ]
  },
  {
   "cell_type": "markdown",
   "metadata": {},
   "source": [
    "## Motivation"
   ]
  },
  {
   "cell_type": "markdown",
   "metadata": {},
   "source": [
    "The internet has changed the way we access to information. It provides a wealth of information and resources available that grow continuously, in which anyone can publish and contribute in its expansion. With such broad data and ease of sharing information, the representativeness of each country in the internet media turns out central to understand how we see countries in the world. A country’s economic importance arises as a possible factor related to how we see a country. Therefore, in this project, I study the relationship between countries’ economic importance and countries’ information available on the internet."
   ]
  },
  {
   "cell_type": "markdown",
   "metadata": {},
   "source": [
    "## Method"
   ]
  },
  {
   "cell_type": "markdown",
   "metadata": {},
   "source": [
    "I use country's gross domestic product (GDP) as an indicator of country's economic importance. I obtained GDP data from a general function I created ([see below](#general_function)) based on an interface to find and request information from World Bank data API’s, [wbdata](http://wbdata.readthedocs.io/en/latest/). The selection includes GDP data for 2016, in U.S. dollars. I collected data from google estimates search results, using a function for web scraping ([see below](#search_results)), to measure countries' information available on the internet. The selection includes web general results and web news results in [Google](http://google.com). I present [visualization](#visualization) of the relationship between variables and conduct [Spearman's rank correlation](#spearman)."
   ]
  },
  {
   "cell_type": "markdown",
   "metadata": {},
   "source": [
    "## Answer"
   ]
  },
  {
   "cell_type": "markdown",
   "metadata": {},
   "source": [
    "Yes. There is a positive statistically significant correlation between countries' economic importance measured by GDP and countries' information available on the internet measured by search results in Google. "
   ]
  },
  {
   "cell_type": "markdown",
   "metadata": {},
   "source": [
    "## Extracting data"
   ]
  },
  {
   "cell_type": "markdown",
   "metadata": {},
   "source": [
    "Let’s first import necessary libraries for the whole project."
   ]
  },
  {
   "cell_type": "code",
   "execution_count": 1,
   "metadata": {
    "collapsed": true
   },
   "outputs": [],
   "source": [
    "#libraries imported\n",
    "import wbdata #interface to find and request information from the World Bank's various databases\n",
    "import pandas as pd \n",
    "import numpy as np\n",
    "import datetime \n",
    "import requests\n",
    "from bs4 import BeautifulSoup\n",
    "import re\n",
    "import matplotlib.pyplot as plt\n",
    "from scipy import stats"
   ]
  },
  {
   "cell_type": "markdown",
   "metadata": {},
   "source": [
    "As the World Bank data includes countries as well as regions, let's subset the codes that correspond only to individual economies."
   ]
  },
  {
   "cell_type": "code",
   "execution_count": 2,
   "metadata": {
    "collapsed": true
   },
   "outputs": [],
   "source": [
    "#economies' codes\n",
    "file=\"http://databank.worldbank.org/data/download/site-content/CLASS.xls\"\n",
    "df_file=pd.read_excel(file, index_col=0, usecols=[2,3])\n",
    "df_file.columns = ['Code']\n",
    "df_country=df_file.loc['Afghanistan':'Zimbabwe']\n",
    "country_code=df_country['Code'].tolist()"
   ]
  },
  {
   "cell_type": "markdown",
   "metadata": {},
   "source": [
    "Next, let's find out the code of the indicator of interest: GDP."
   ]
  },
  {
   "cell_type": "code",
   "execution_count": 3,
   "metadata": {},
   "outputs": [
    {
     "name": "stdout",
     "output_type": "stream",
     "text": [
      "11\tAfrica Development Indicators\n",
      "36\tStatistical Capacity Indicators\n",
      "31\tCountry Policy and Institutional Assessment\n",
      "41\tCountry Partnership Strategy for India (FY2013 - 17)\n",
      "1 \tDoing Business\n",
      "30\tExporter Dynamics Database ��� Indicators at Country-Year Level\n",
      "12\tEducation Statistics\n",
      "13\tEnterprise Surveys\n",
      "28\tGlobal Financial Inclusion\n",
      "33\tG20 Financial Inclusion Indicators\n",
      "14\tGender Statistics\n",
      "15\tGlobal Economic Monitor\n",
      "27\tGlobal Economic Prospects\n",
      "32\tGlobal Financial Development\n",
      "21\tGlobal Economic Monitor Commodities\n",
      "55\tCommodity Prices- History and Projections\n",
      "34\tGlobal Partnership for Education\n",
      "29\tThe Atlas of Social Protection: Indicators of Resilience and Equity\n",
      "16\tHealth Nutrition and Population Statistics\n",
      "39\tHealth Nutrition and Population Statistics by Wealth Quintile\n",
      "40\tPopulation estimates and projections\n",
      "18\tIDA Results Measurement System\n",
      "45\tIndonesia Database for Policy and Economic Research\n",
      "6 \tInternational Debt Statistics\n",
      "54\tJoint External Debt Hub\n",
      "25\tJobs\n",
      "37\tLAC Equity Lab\n",
      "19\tMillennium Development Goals\n",
      "24\tPoverty and Equity\n",
      "20\tQuarterly Public Sector Debt\n",
      "23\tQuarterly External Debt Statistics GDDS\n",
      "22\tQuarterly External Debt Statistics SDDS\n",
      "44\tReadiness for Investment in Sustainable Energy\n",
      "46\tSustainable Development Goals \n",
      "35\tSustainable Energy for All\n",
      "5 \tSubnational Malnutrition Database\n",
      "38\tSubnational Poverty\n",
      "50\tSubnational Population\n",
      "58\tUniversal Health Coverage\n",
      "43\tWealth accounting\n",
      "57\tWDI Database Archives\n",
      "2 \tWorld Development Indicators\n",
      "3 \tWorldwide Governance Indicators\n",
      "FD.AST.PRVT.GD.ZS   \tDomestic credit to private sector by banks (% of GDP)\n",
      "ER.GDP.FWTL.M3.KD   \tWater productivity, total (constant 2010 US$ GDP per cubic meter of total freshwater withdrawal)\n",
      "CM.MKT.TRAD.GD.ZS   \tStocks traded, total value (% of GDP)\n",
      "CM.MKT.LCAP.GD.ZS   \tMarket capitalization of listed domestic companies (% of GDP)\n",
      "BX.TRF.PWKR.DT.GD.ZS\tPersonal remittances, received (% of GDP)\n",
      "BX.KLT.DINV.WD.GD.ZS\tForeign direct investment, net inflows (% of GDP)\n",
      "BN.CAB.XOKA.GD.ZS   \tCurrent account balance (% of GDP)\n",
      "BM.KLT.DINV.WD.GD.ZS\tForeign direct investment, net outflows (% of GDP)\n",
      "EN.ATM.CO2E.PP.GD.KD\tCO2 emissions (kg per 2011 PPP $ of GDP)\n",
      "EN.ATM.CO2E.PP.GD   \tCO2 emissions (kg per PPP $ of GDP)\n",
      "EN.ATM.CO2E.KD.GD   \tCO2 emissions (kg per 2010 US$ of GDP)\n",
      "EG.USE.COMM.GD.PP.KD\tEnergy use (kg of oil equivalent) per $1,000 GDP (constant 2011 PPP)\n",
      "EG.GDP.PUSE.KO.PP.KD\tGDP per unit of energy use (constant 2011 PPP $ per kg of oil equivalent)\n",
      "EG.GDP.PUSE.KO.PP   \tGDP per unit of energy use (PPP $ per kg of oil equivalent)\n",
      "EG.EGY.PRIM.PP.KD   \tEnergy intensity level of primary energy (MJ/$2011 PPP GDP)\n",
      "BG.GSR.NFSV.GD.ZS   \tTrade in services (% of GDP)\n",
      "PA.NUS.PPPC.RF      \tPrice level ratio of PPP conversion factor (GDP) to market exchange rate\n",
      "PA.NUS.PPP.05       \t2005 PPP conversion factor, GDP (LCU per international $)\n",
      "PA.NUS.PPP          \tPPP conversion factor, GDP (LCU per international $)\n",
      "NY.GNS.ICTR.ZS      \tGross savings (% of GDP)\n",
      "NY.GDS.TOTL.ZS      \tGross domestic savings (% of GDP)\n",
      "NY.GDP.TOTL.RT.ZS   \tTotal natural resources rents (% of GDP)\n",
      "NY.GDP.PETR.RT.ZS   \tOil rents (% of GDP)\n",
      "NY.GDP.PCAP.PP.KD   \tGDP per capita, PPP (constant 2011 international $)\n",
      "NY.GDP.PCAP.PP.CD   \tGDP per capita, PPP (current international $)\n",
      "NY.GDP.PCAP.KN      \tGDP per capita (constant LCU)\n",
      "NY.GDP.PCAP.KD.ZG   \tGDP per capita growth (annual %)\n",
      "NY.GDP.PCAP.KD      \tGDP per capita (constant 2010 US$)\n",
      "NY.GDP.PCAP.CN      \tGDP per capita (current LCU)\n",
      "NY.GDP.PCAP.CD      \tGDP per capita (current US$)\n",
      "NY.GDP.NGAS.RT.ZS   \tNatural gas rents (% of GDP)\n",
      "NY.GDP.MKTP.PP.KD   \tGDP, PPP (constant 2011 international $)\n",
      "NY.GDP.MKTP.PP.CD   \tGDP, PPP (current international $)\n",
      "NY.GDP.MKTP.KN      \tGDP (constant LCU)\n",
      "NY.GDP.MKTP.KD.ZG   \tGDP growth (annual %)\n",
      "NY.GDP.MKTP.KD      \tGDP (constant 2010 US$)\n",
      "NY.GDP.MKTP.CN.AD   \tGDP: linked series (current LCU)\n",
      "NY.GDP.MKTP.CN      \tGDP (current LCU)\n",
      "NY.GDP.MKTP.CD      \tGDP (current US$)\n",
      "NY.GDP.MINR.RT.ZS   \tMineral rents (% of GDP)\n",
      "NY.GDP.FRST.RT.ZS   \tForest rents (% of GDP)\n",
      "NY.GDP.DISC.KN      \tDiscrepancy in expenditure estimate of GDP (constant LCU)\n",
      "NY.GDP.DISC.CN      \tDiscrepancy in expenditure estimate of GDP (current LCU)\n",
      "NY.GDP.DEFL.ZS.AD   \tGDP deflator: linked series (base year varies by country)\n",
      "NY.GDP.DEFL.ZS      \tGDP deflator (base year varies by country)\n",
      "NY.GDP.DEFL.KD.ZG.AD\tInflation, GDP deflator: linked series (annual %)\n",
      "NY.GDP.DEFL.KD.ZG   \tInflation, GDP deflator (annual %)\n",
      "NY.GDP.COAL.RT.ZS   \tCoal rents (% of GDP)\n",
      "NV.SRV.TETC.ZS      \tServices, etc., value added (% of GDP)\n",
      "NV.IND.TOTL.ZS      \tIndustry, value added (% of GDP)\n",
      "NV.IND.MANF.ZS      \tManufacturing, value added (% of GDP)\n",
      "NV.AGR.TOTL.ZS      \tAgriculture, value added (% of GDP)\n",
      "NE.TRD.GNFS.ZS      \tTrade (% of GDP)\n",
      "NE.RSB.GNFS.ZS      \tExternal balance on goods and services (% of GDP)\n",
      "NE.IMP.GNFS.ZS      \tImports of goods and services (% of GDP)\n",
      "NE.GDI.TOTL.ZS      \tGross capital formation (% of GDP)\n",
      "NE.GDI.FTOT.ZS      \tGross fixed capital formation (% of GDP)\n",
      "NE.GDI.FPRV.ZS      \tGross fixed capital formation, private sector (% of GDP)\n",
      "NE.EXP.GNFS.ZS      \tExports of goods and services (% of GDP)\n",
      "NE.DAB.TOTL.ZS      \tGross national expenditure (% of GDP)\n",
      "NE.CON.TETC.ZS      \tFinal consumption expenditure, etc. (% of GDP)\n",
      "NE.CON.PETC.ZS      \tHousehold final consumption expenditure, etc. (% of GDP)\n",
      "NE.CON.GOVT.ZS      \tGeneral government final consumption expenditure (% of GDP)\n",
      "MS.MIL.XPND.GD.ZS   \tMilitary expenditure (% of GDP)\n",
      "GC.XPN.TOTL.GD.ZS   \tExpense (% of GDP)\n",
      "GC.TAX.TOTL.GD.ZS   \tTax revenue (% of GDP)\n",
      "GC.REV.XGRT.GD.ZS   \tRevenue, excluding grants (% of GDP)\n",
      "GC.NLD.TOTL.GD.ZS   \tNet lending (+) / net borrowing (-) (% of GDP)\n",
      "GC.NFN.TOTL.GD.ZS   \tNet investment in nonfinancial assets (% of GDP)\n",
      "GC.LBL.TOTL.GD.ZS   \tNet incurrence of liabilities, total (% of GDP)\n",
      "GC.DOD.TOTL.GD.ZS   \tCentral government debt, total (% of GDP)\n",
      "GC.AST.TOTL.GD.ZS   \tNet acquisition of financial assets (% of GDP)\n",
      "GB.XPD.RSDV.GD.ZS   \tResearch and development expenditure (% of GDP)\n",
      "FS.AST.PRVT.GD.ZS   \tDomestic credit to private sector (% of GDP)\n",
      "FS.AST.DOMS.GD.ZS   \tDomestic credit provided by financial sector (% of GDP)\n",
      "FS.AST.DOMO.GD.ZS   \tClaims on other sectors of the domestic economy (% of GDP)\n",
      "FS.AST.CGOV.GD.ZS   \tClaims on central government, etc. (% GDP)\n",
      "FM.LBL.BMNY.GD.ZS   \tBroad money (% of GDP)\n",
      "SE.XPD.TOTL.GD.ZS   \tGovernment expenditure on education, total (% of GDP)\n",
      "SE.XPD.TERT.PC.ZS   \tGovernment expenditure per tertiary student as % of GDP per capita (%)\n",
      "SE.XPD.SECO.PC.ZS   \tGovernment expenditure per student, secondary (% of GDP per capita)\n",
      "SE.XPD.PRIM.PC.ZS   \tGovernment expenditure per student, primary (% of GDP per capita)\n",
      "TG.VAL.TOTL.GD.ZS   \tMerchandise trade (% of GDP)\n",
      "SL.GDP.PCAP.EM.KD   \tGDP per person employed (constant 2011 PPP $)\n",
      "SH.XPD.TOTL.ZS      \tHealth expenditure, total (% of GDP)\n",
      "SH.XPD.PUBL.ZS      \tHealth expenditure, public (% of GDP)\n",
      "SH.XPD.PRIV.ZS      \tHealth expenditure, private (% of GDP)\n"
     ]
    }
   ],
   "source": [
    "#search data label indicator\n",
    "wbdata.get_source() #to select database of interest\n",
    "wbdata.search_indicators('GDP', source=2) #filter indicator in databate of interest"
   ]
  },
  {
   "cell_type": "markdown",
   "metadata": {},
   "source": [
    "<a name=\"general_function\"></a>The following represents a general function to extract data from World Bank in a given period for given countries. I apply this function to extract GDP data of all countries in 2016."
   ]
  },
  {
   "cell_type": "code",
   "execution_count": 5,
   "metadata": {
    "collapsed": true
   },
   "outputs": [],
   "source": [
    "#to get an indicator for certain years for certain countries with datetime \n",
    "def country_data(indicator_code, indicator_label, start, end, country=country_code):\n",
    "    \"\"\"Extract data from World Bank from one indicator for years and countries specified\"\"\"\n",
    "    indicator = {indicator_code: str(indicator_label)}\n",
    "    period=(datetime.datetime(start,1,1), datetime.datetime(end,12,31))\n",
    "    df=wbdata.get_dataframe(indicator, country, period)\n",
    "    return df[[str(indicator_label)]]\n",
    "\n",
    "#the specific indicator I want to get \n",
    "gdp=country_data(\"NY.GDP.MKTP.CD\", \"gdp\", 2016, 2016)\n",
    "\n",
    "#to drop missing values\n",
    "gdp.dropna(inplace=True)"
   ]
  },
  {
   "cell_type": "markdown",
   "metadata": {},
   "source": [
    "<a name=\"search_results\"></a>Next, I obtained countries' search results."
   ]
  },
  {
   "cell_type": "code",
   "execution_count": 6,
   "metadata": {
    "collapsed": true
   },
   "outputs": [],
   "source": [
    "#google search results function\n",
    "def google_search(countries, t='Web'):\n",
    "    \"\"\"Extract number of search results for a dataframe of countries\"\"\"\n",
    "    for country in countries.index:\n",
    "        #print (country)\n",
    "        if t is 'Web': \n",
    "            urlt = 'https://www.google.com/search?q='+str(country)\n",
    "        if t is 'News': \n",
    "            urlt = 'https://www.google.com/search?tbm=nws&q='+str(country)\n",
    "        rt = requests.get(urlt)\n",
    "        st = BeautifulSoup(rt.text, 'lxml')\n",
    "        result_stats_t = st.find(id='resultStats')\n",
    "        results_t=re.findall('[0-9]', str(result_stats_t))\n",
    "        results=[int(''.join(results_t))]\n",
    "        #print (results)\n",
    "        countries.loc[str(country), t] = int(''.join(results_t))"
   ]
  },
  {
   "cell_type": "code",
   "execution_count": 7,
   "metadata": {
    "collapsed": true
   },
   "outputs": [],
   "source": [
    "#google search results for web, be aware this can take around 3 minutes to execute due to number of requests\n",
    "google_search(gdp)"
   ]
  },
  {
   "cell_type": "code",
   "execution_count": 8,
   "metadata": {
    "collapsed": true
   },
   "outputs": [],
   "source": [
    "#google search results for news, be aware this can take around 3 minutes to execute due to number of requests\n",
    "google_search(gdp, t='News')"
   ]
  },
  {
   "cell_type": "markdown",
   "metadata": {},
   "source": [
    "## Analysis"
   ]
  },
  {
   "cell_type": "markdown",
   "metadata": {},
   "source": [
    "Preview of final data: five largest and five smallest economies"
   ]
  },
  {
   "cell_type": "code",
   "execution_count": 9,
   "metadata": {
    "collapsed": true
   },
   "outputs": [],
   "source": [
    "#function to preview final data\n",
    "def table(data, sort, hlabel, tlabel):\n",
    "    data.columns=data.columns.str.capitalize()\n",
    "    data = data.sort_values(by=str(sort), ascending=False)\n",
    "    table = pd.concat([data.head(5)/1000000, data.tail(5)/1000000], keys=[str(hlabel),str(tlabel)])\n",
    "    table.rename(columns=lambda x: x+' (in millions)', inplace=True)\n",
    "    table_d=table.style.format('{0:,.2f}')\n",
    "    return table_d"
   ]
  },
  {
   "cell_type": "code",
   "execution_count": 10,
   "metadata": {},
   "outputs": [
    {
     "data": {
      "text/html": [
       "<style  type=\"text/css\" >\n",
       "</style>  \n",
       "<table id=\"T_369dd4b4_f6c4_11e7_9281_d017c206ab12\" > \n",
       "<thead>    <tr> \n",
       "        <th class=\"blank\" ></th> \n",
       "        <th class=\"blank level0\" ></th> \n",
       "        <th class=\"col_heading level0 col0\" >Gdp (in millions)</th> \n",
       "        <th class=\"col_heading level0 col1\" >Web (in millions)</th> \n",
       "        <th class=\"col_heading level0 col2\" >News (in millions)</th> \n",
       "    </tr>    <tr> \n",
       "        <th class=\"index_name level0\" ></th> \n",
       "        <th class=\"index_name level1\" >country</th> \n",
       "        <th class=\"blank\" ></th> \n",
       "        <th class=\"blank\" ></th> \n",
       "        <th class=\"blank\" ></th> \n",
       "    </tr></thead> \n",
       "<tbody>    <tr> \n",
       "        <th id=\"T_369dd4b4_f6c4_11e7_9281_d017c206ab12level0_row0\" class=\"row_heading level0 row0\" rowspan=5>Largest</th> \n",
       "        <th id=\"T_369dd4b4_f6c4_11e7_9281_d017c206ab12level1_row0\" class=\"row_heading level1 row0\" >United States</th> \n",
       "        <td id=\"T_369dd4b4_f6c4_11e7_9281_d017c206ab12row0_col0\" class=\"data row0 col0\" >18,624,475.00</td> \n",
       "        <td id=\"T_369dd4b4_f6c4_11e7_9281_d017c206ab12row0_col1\" class=\"data row0 col1\" >3,100.00</td> \n",
       "        <td id=\"T_369dd4b4_f6c4_11e7_9281_d017c206ab12row0_col2\" class=\"data row0 col2\" >43.50</td> \n",
       "    </tr>    <tr> \n",
       "        <th id=\"T_369dd4b4_f6c4_11e7_9281_d017c206ab12level1_row1\" class=\"row_heading level1 row1\" >China</th> \n",
       "        <td id=\"T_369dd4b4_f6c4_11e7_9281_d017c206ab12row1_col0\" class=\"data row1 col0\" >11,199,145.16</td> \n",
       "        <td id=\"T_369dd4b4_f6c4_11e7_9281_d017c206ab12row1_col1\" class=\"data row1 col1\" >3,220.00</td> \n",
       "        <td id=\"T_369dd4b4_f6c4_11e7_9281_d017c206ab12row1_col2\" class=\"data row1 col2\" >64.70</td> \n",
       "    </tr>    <tr> \n",
       "        <th id=\"T_369dd4b4_f6c4_11e7_9281_d017c206ab12level1_row2\" class=\"row_heading level1 row2\" >Japan</th> \n",
       "        <td id=\"T_369dd4b4_f6c4_11e7_9281_d017c206ab12row2_col0\" class=\"data row2 col0\" >4,940,158.78</td> \n",
       "        <td id=\"T_369dd4b4_f6c4_11e7_9281_d017c206ab12row2_col1\" class=\"data row2 col1\" >2,500.00</td> \n",
       "        <td id=\"T_369dd4b4_f6c4_11e7_9281_d017c206ab12row2_col2\" class=\"data row2 col2\" >41.70</td> \n",
       "    </tr>    <tr> \n",
       "        <th id=\"T_369dd4b4_f6c4_11e7_9281_d017c206ab12level1_row3\" class=\"row_heading level1 row3\" >Germany</th> \n",
       "        <td id=\"T_369dd4b4_f6c4_11e7_9281_d017c206ab12row3_col0\" class=\"data row3 col0\" >3,477,796.27</td> \n",
       "        <td id=\"T_369dd4b4_f6c4_11e7_9281_d017c206ab12row3_col1\" class=\"data row3 col1\" >1,480.00</td> \n",
       "        <td id=\"T_369dd4b4_f6c4_11e7_9281_d017c206ab12row3_col2\" class=\"data row3 col2\" >21.30</td> \n",
       "    </tr>    <tr> \n",
       "        <th id=\"T_369dd4b4_f6c4_11e7_9281_d017c206ab12level1_row4\" class=\"row_heading level1 row4\" >United Kingdom</th> \n",
       "        <td id=\"T_369dd4b4_f6c4_11e7_9281_d017c206ab12row4_col0\" class=\"data row4 col0\" >2,647,898.65</td> \n",
       "        <td id=\"T_369dd4b4_f6c4_11e7_9281_d017c206ab12row4_col1\" class=\"data row4 col1\" >1,270.00</td> \n",
       "        <td id=\"T_369dd4b4_f6c4_11e7_9281_d017c206ab12row4_col2\" class=\"data row4 col2\" >16.30</td> \n",
       "    </tr>    <tr> \n",
       "        <th id=\"T_369dd4b4_f6c4_11e7_9281_d017c206ab12level0_row5\" class=\"row_heading level0 row5\" rowspan=5>Smallest</th> \n",
       "        <th id=\"T_369dd4b4_f6c4_11e7_9281_d017c206ab12level1_row5\" class=\"row_heading level1 row5\" >Palau</th> \n",
       "        <td id=\"T_369dd4b4_f6c4_11e7_9281_d017c206ab12row5_col0\" class=\"data row5 col0\" >310.25</td> \n",
       "        <td id=\"T_369dd4b4_f6c4_11e7_9281_d017c206ab12row5_col1\" class=\"data row5 col1\" >242.00</td> \n",
       "        <td id=\"T_369dd4b4_f6c4_11e7_9281_d017c206ab12row5_col2\" class=\"data row5 col2\" >1.60</td> \n",
       "    </tr>    <tr> \n",
       "        <th id=\"T_369dd4b4_f6c4_11e7_9281_d017c206ab12level1_row6\" class=\"row_heading level1 row6\" >Marshall Islands</th> \n",
       "        <td id=\"T_369dd4b4_f6c4_11e7_9281_d017c206ab12row6_col0\" class=\"data row6 col0\" >194.50</td> \n",
       "        <td id=\"T_369dd4b4_f6c4_11e7_9281_d017c206ab12row6_col1\" class=\"data row6 col1\" >152.00</td> \n",
       "        <td id=\"T_369dd4b4_f6c4_11e7_9281_d017c206ab12row6_col2\" class=\"data row6 col2\" >0.79</td> \n",
       "    </tr>    <tr> \n",
       "        <th id=\"T_369dd4b4_f6c4_11e7_9281_d017c206ab12level1_row7\" class=\"row_heading level1 row7\" >Kiribati</th> \n",
       "        <td id=\"T_369dd4b4_f6c4_11e7_9281_d017c206ab12row7_col0\" class=\"data row7 col0\" >181.55</td> \n",
       "        <td id=\"T_369dd4b4_f6c4_11e7_9281_d017c206ab12row7_col1\" class=\"data row7 col1\" >231.00</td> \n",
       "        <td id=\"T_369dd4b4_f6c4_11e7_9281_d017c206ab12row7_col2\" class=\"data row7 col2\" >0.34</td> \n",
       "    </tr>    <tr> \n",
       "        <th id=\"T_369dd4b4_f6c4_11e7_9281_d017c206ab12level1_row8\" class=\"row_heading level1 row8\" >Nauru</th> \n",
       "        <td id=\"T_369dd4b4_f6c4_11e7_9281_d017c206ab12row8_col0\" class=\"data row8 col0\" >102.06</td> \n",
       "        <td id=\"T_369dd4b4_f6c4_11e7_9281_d017c206ab12row8_col1\" class=\"data row8 col1\" >224.00</td> \n",
       "        <td id=\"T_369dd4b4_f6c4_11e7_9281_d017c206ab12row8_col2\" class=\"data row8 col2\" >0.39</td> \n",
       "    </tr>    <tr> \n",
       "        <th id=\"T_369dd4b4_f6c4_11e7_9281_d017c206ab12level1_row9\" class=\"row_heading level1 row9\" >Tuvalu</th> \n",
       "        <td id=\"T_369dd4b4_f6c4_11e7_9281_d017c206ab12row9_col0\" class=\"data row9 col0\" >34.22</td> \n",
       "        <td id=\"T_369dd4b4_f6c4_11e7_9281_d017c206ab12row9_col1\" class=\"data row9 col1\" >232.00</td> \n",
       "        <td id=\"T_369dd4b4_f6c4_11e7_9281_d017c206ab12row9_col2\" class=\"data row9 col2\" >0.44</td> \n",
       "    </tr></tbody> \n",
       "</table> "
      ],
      "text/plain": [
       "<pandas.io.formats.style.Styler at 0x1f0df807048>"
      ]
     },
     "execution_count": 10,
     "metadata": {},
     "output_type": "execute_result"
    }
   ],
   "source": [
    "#display data for the five largest and the five smallest economies \n",
    "table(gdp, 'Gdp', 'Largest', 'Smallest')"
   ]
  },
  {
   "cell_type": "markdown",
   "metadata": {},
   "source": [
    "I classify the economies as follows:<br/> \n",
    "* Largest: economies with a GDP greater than 100 billion US dollars\n",
    "* Middle: economies with a GDP between 10 billion US dollars and 100 billion US dollars\n",
    "* Smallest: economies with a GDP smaller than 10 billion US dollars"
   ]
  },
  {
   "cell_type": "code",
   "execution_count": 95,
   "metadata": {
    "collapsed": true
   },
   "outputs": [],
   "source": [
    "#group of countries created\n",
    "largest = gdp[100000000000<=gdp.Gdp].sort_values(by=['Gdp'], ascending=False)\n",
    "middle = gdp[(10000000000<gdp.Gdp) & (gdp.Gdp<100000000000)].sort_values(by=['Gdp'], ascending=False)\n",
    "smallest = gdp[gdp.Gdp<=10000000000].sort_values(by=['Gdp'])"
   ]
  },
  {
   "cell_type": "code",
   "execution_count": 96,
   "metadata": {
    "collapsed": true
   },
   "outputs": [],
   "source": [
    "#function for graphs\n",
    "def graph(group, column1, column2, column3, color, title):\n",
    "    fig = plt.figure(figsize=(11,4))\n",
    "    sub1 = fig.add_subplot(131)\n",
    "    sub1.set_title(column1)\n",
    "    sub1 = group[column1].head(5).plot.barh(color=color)\n",
    "    sub2 = fig.add_subplot(132)\n",
    "    sub2.set_title(column2)\n",
    "    sub2 = group[column2].head(5).plot.barh(color=color)\n",
    "    sub2.set_ylabel(\" \")\n",
    "    sub2.set_yticks([])\n",
    "    sub3 = fig.add_subplot(133)\n",
    "    sub3.set_title(column3)\n",
    "    sub3 = group[column3].head(5).plot.barh(color=color)\n",
    "    sub3.set_ylabel(\" \")\n",
    "    sub3.set_yticks([])\n",
    "    if group is largest:\n",
    "        sub1.invert_yaxis()\n",
    "        sub2.invert_yaxis()\n",
    "        sub3.invert_yaxis()\n",
    "    plt.suptitle(title)\n",
    "    plt.subplots_adjust(wspace=0.03)\n",
    "    plt.show()"
   ]
  },
  {
   "cell_type": "code",
   "execution_count": 97,
   "metadata": {},
   "outputs": [
    {
     "data": {
      "image/png": "[encoded data removed]",
      "text/plain": [
       "<matplotlib.figure.Figure at 0x1f0e07702b0>"
      ]
     },
     "metadata": {},
     "output_type": "display_data"
    }
   ],
   "source": [
    "#graph of the five largest economies\n",
    "graph(largest, 'Gdp', 'Web', 'News', 'royalblue', 'Five largest economies')"
   ]
  },
  {
   "cell_type": "code",
   "execution_count": 98,
   "metadata": {},
   "outputs": [
    {
     "data": {
      "image/png": "[encoded data removed]",
      "text/plain": [
       "<matplotlib.figure.Figure at 0x1f0df843a58>"
      ]
     },
     "metadata": {},
     "output_type": "display_data"
    }
   ],
   "source": [
    "#graph five smallest economies\n",
    "graph(smallest, 'Gdp', 'Web', 'News', 'g', 'Five smallest economies')"
   ]
  },
  {
   "cell_type": "markdown",
   "metadata": {},
   "source": [
    "<a name=\"visualization\"></a>Visualization of relationship between variables, expressed on logarithmic axes."
   ]
  },
  {
   "cell_type": "code",
   "execution_count": 99,
   "metadata": {},
   "outputs": [
    {
     "data": {
      "image/png": "[encoded data removed]",
      "text/plain": [
       "<matplotlib.figure.Figure at 0x1f0df7eac50>"
      ]
     },
     "metadata": {},
     "output_type": "display_data"
    }
   ],
   "source": [
    "#graph relationship GDP-Web, GDP-News\n",
    "fig = plt.figure(figsize=(10,4))\n",
    "sub1 = fig.add_subplot(121)\n",
    "sub1.set_title('Gdp and Web')\n",
    "sub1.set_xlabel('GDP [in USD] (log scale)')\n",
    "sub1.set_ylabel('Web results [in units] (log scale)')\n",
    "sub1.set_xscale('log') \n",
    "sub1.set_yscale('log')\n",
    "sub1.scatter(gdp['Gdp'], gdp['Web'], color='silver')\n",
    "sub1.scatter(largest['Gdp'], largest['Web'])\n",
    "sub1.scatter(smallest['Gdp'], smallest['Web'], color='g')\n",
    "plt.legend(['middle','largest','smallest'])\n",
    "sub2 = fig.add_subplot(122)\n",
    "sub2.set_title('Gdp and News')\n",
    "sub2.set_xlabel('GDP [in USD] (log scale)')\n",
    "sub2.set_ylabel('News results [in units] (log scale)')\n",
    "sub2.set_xscale('log')\n",
    "sub2.set_yscale('log')\n",
    "sub2.scatter(gdp['Gdp'], gdp['News'], color='silver')\n",
    "sub2.scatter(largest['Gdp'], largest['News'])\n",
    "sub2.scatter(smallest['Gdp'], smallest['News'], color='g')\n",
    "plt.legend(['middle','largest','smallest'])\n",
    "plt.show()"
   ]
  },
  {
   "cell_type": "markdown",
   "metadata": {},
   "source": [
    "<a name=\"spearman\"></a>Spearman correlation coefficient (click [here](http://www.statisticshowto.com/spearman-rank-correlation-definition-calculate/) for definition and calculation)"
   ]
  },
  {
   "cell_type": "code",
   "execution_count": 106,
   "metadata": {},
   "outputs": [
    {
     "name": "stdout",
     "output_type": "stream",
     "text": [
      "\u001b[1mGDP and Web\u001b[0m\n",
      "All economies: Correlation 0.72\n",
      "Statistically significant at 5%\n",
      "Largest economies: Correlation 0.59\n",
      "Statistically significant at 5%\n",
      "Middle economies: Correlation 0.32\n",
      "Statistically significant at 5%\n",
      "Smallest economies: Correlation 0.41\n",
      "Statistically significant at 5%\n",
      "\u001b[1mGDP and News\u001b[0m\n",
      "All economies: Correlation 0.73\n",
      "Statistically significant at 5%\n",
      "Largest economies: Correlation 0.47\n",
      "Statistically significant at 5%\n",
      "Middle economies: Correlation 0.31\n",
      "Statistically significant at 5%\n",
      "Smallest economies: Correlation 0.53\n",
      "Statistically significant at 5%\n"
     ]
    }
   ],
   "source": [
    "#spearman correlation for all economies and groups\n",
    "gdp.name = 'All economies'\n",
    "largest.name = 'Largest economies'\n",
    "middle.name = 'Middle economies'\n",
    "smallest.name = 'Smallest economies'\n",
    "for i in ['Web', 'News']:\n",
    "    print ('\\033[1m'+'GDP and '+i+'\\033[0m')\n",
    "    for j in [gdp, largest, middle, smallest]:\n",
    "        j_i = stats.spearmanr(j['Gdp'], j[i])\n",
    "        print (str(j.name)+': Correlation '+ ('{:.2f}').format(j_i[0]))\n",
    "        if j_i[1] < 0.05:\n",
    "            print ('Statistically significant at 5%')"
   ]
  },
  {
   "cell_type": "markdown",
   "metadata": {},
   "source": [
    "## Conclusion"
   ]
  },
  {
   "cell_type": "markdown",
   "metadata": {},
   "source": [
    "There is a moderate positive relationship between GDP and web general results (0.72), as well as, between GDP and web news results (0.73), at the aggregate level of 190 economies. I also evaluated the strength of these relationships at different GDP levels. The Spearman’s rank correlation indicates a weak, but still positive and statistically significant, relationship for middle economies (0.32 GDP-web results, and 0.31 GDP-news results). The extent of correlation displays uneven for the GDP group of economies considered. This suggests that the moderate positive relationship is valid when considering only all economies. Further analysis related to this project could involve consistency of results using a different search engine and comparison of relationship in different years."
   ]
  }
 ],
 "metadata": {
  "kernelspec": {
   "display_name": "Python 3",
   "language": "python",
   "name": "python3"
  },
  "language_info": {
   "codemirror_mode": {
    "name": "ipython",
    "version": 3
   },
   "file_extension": ".py",
   "mimetype": "text/x-python",
   "name": "python",
   "nbconvert_exporter": "python",
   "pygments_lexer": "ipython3",
   "version": "3.6.3"
  }
 },
 "nbformat": 4,
 "nbformat_minor": 2
}
