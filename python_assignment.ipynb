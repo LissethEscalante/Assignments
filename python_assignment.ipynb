{
 "cells": [
  {
   "cell_type": "markdown",
   "metadata": {},
   "source": [
    "|Name|ANR|\n",
    "|----|---|\n",
    "|Lisseth Escalante|658342|"
   ]
  },
  {
   "cell_type": "markdown",
   "metadata": {},
   "source": [
    "# Relationship between countries' economic importance and countries' information available on the internet"
   ]
  },
  {
   "cell_type": "markdown",
   "metadata": {},
   "source": [
    "## Question"
   ]
  },
  {
   "cell_type": "markdown",
   "metadata": {},
   "source": [
    "Is there a relationship between countries' economic importance and countries' information available on the internet?"
   ]
  },
  {
   "cell_type": "markdown",
   "metadata": {},
   "source": [
    "## Motivation"
   ]
  },
  {
   "cell_type": "markdown",
   "metadata": {},
   "source": [
    "The internet has changed the way we access to information. It provides a wealth of information and resources available that grow continuously, in which anyone can publish and contribute in its expansion. With such broad data and ease of sharing information, the representativeness of each country in the internet media turns out central to understand how we see countries in the world. A country’s economic importance arises as a possible factor related to how we see a country. Therefore, in this project, I study the relationship between countries’ economic importance and countries’ information available on the internet."
   ]
  },
  {
   "cell_type": "markdown",
   "metadata": {},
   "source": [
    "## Method"
   ]
  },
  {
   "cell_type": "markdown",
   "metadata": {},
   "source": [
    "I use country's gross domestic product (GDP) as an indicator of country's economic importance. I obtained GDP data from a general function I created ([see below](#general_function)) based on an interface to find and request information from World Bank data API’s, [wbdata](http://wbdata.readthedocs.io/en/latest/). The selection includes GDP data for 2016, in U.S. dollars. I collected data from google estimates search results, using a function for web scraping ([see below](#search_results)), to measure countries' information available on the internet. The selection includes web general results and web news results in [Google](http://google.com). I present [visualization](#visualization) of the relationship between variables and conduct [Spearman's rank correlation](#spearman)."
   ]
  },
  {
   "cell_type": "markdown",
   "metadata": {},
   "source": [
    "## Answer"
   ]
  },
  {
   "cell_type": "markdown",
   "metadata": {},
   "source": [
    "Yes. There is a positive statistically significant correlation between countries' economic importance measured by GDP and countries' information available on the internet measured by search results in Google. "
   ]
  },
  {
   "cell_type": "markdown",
   "metadata": {},
   "source": [
    "## Extracting data"
   ]
  },
  {
   "cell_type": "markdown",
   "metadata": {},
   "source": [
    "Let’s first import necessary libraries for the whole project."
   ]
  },
  {
   "cell_type": "code",
   "execution_count": null,
   "metadata": {
    "collapsed": true
   },
   "outputs": [],
   "source": [
    "#libraries imported\n",
    "import wbdata #interface to find and request information from the World Bank's various databases\n",
    "import pandas as pd \n",
    "import numpy as np\n",
    "import datetime \n",
    "import requests\n",
    "from bs4 import BeautifulSoup\n",
    "import re\n",
    "import matplotlib.pyplot as plt\n",
    "from scipy import stats"
   ]
  },
  {
   "cell_type": "markdown",
   "metadata": {},
   "source": [
    "As the World Bank data includes countries as well as regions, let's subset the codes that correspond only to individual economies."
   ]
  },
  {
   "cell_type": "code",
   "execution_count": null,
   "metadata": {
    "collapsed": true
   },
   "outputs": [],
   "source": [
    "#economies' codes\n",
    "file=\"http://databank.worldbank.org/data/download/site-content/CLASS.xls\"\n",
    "df_file=pd.read_excel(file, index_col=0, usecols=[2,3])\n",
    "df_file.columns = ['Code']\n",
    "df_country=df_file.loc['Afghanistan':'Zimbabwe']\n",
    "country_code=df_country['Code'].tolist()"
   ]
  },
  {
   "cell_type": "markdown",
   "metadata": {},
   "source": [
    "Next, let's find out the code of the indicator of interest: GDP."
   ]
  },
  {
   "cell_type": "code",
   "execution_count": null,
   "metadata": {
    "collapsed": true
   },
   "outputs": [],
   "source": [
    "#search data label indicator\n",
    "wbdata.get_source() #to select database of interest"
   ]
  },
  {
   "cell_type": "code",
   "execution_count": null,
   "metadata": {
    "collapsed": true
   },
   "outputs": [],
   "source": [
    "#search data label indicator\n",
    "wbdata.search_indicators('GDP', source=2) #filter indicator in databate of interest"
   ]
  },
  {
   "cell_type": "markdown",
   "metadata": {},
   "source": [
    "<a name=\"general_function\"></a>The following represents a general function to extract data from World Bank in a given period for given countries. I apply this function to extract GDP data of all countries in 2016."
   ]
  },
  {
   "cell_type": "code",
   "execution_count": null,
   "metadata": {
    "collapsed": true
   },
   "outputs": [],
   "source": [
    "#to get an indicator for certain years for certain countries with datetime \n",
    "def country_data(indicator_code, indicator_label, start, end, country=country_code):\n",
    "    \"\"\"Extract data from World Bank from one indicator for years and countries specified\"\"\"\n",
    "    indicator = {indicator_code: str(indicator_label)}\n",
    "    period=(datetime.datetime(start,1,1), datetime.datetime(end,12,31))\n",
    "    df=wbdata.get_dataframe(indicator, country, period)\n",
    "    return df[[str(indicator_label)]]\n",
    "\n",
    "#the specific indicator I want to get \n",
    "gdp=country_data(\"NY.GDP.MKTP.CD\", \"gdp\", 2016, 2016)\n",
    "\n",
    "#to drop missing values\n",
    "gdp.dropna(inplace=True)"
   ]
  },
  {
   "cell_type": "markdown",
   "metadata": {},
   "source": [
    "<a name=\"search_results\"></a>Next, I obtained countries' search results."
   ]
  },
  {
   "cell_type": "code",
   "execution_count": null,
   "metadata": {
    "collapsed": true
   },
   "outputs": [],
   "source": [
    "#google search results function\n",
    "def google_search(countries, t='Web'):\n",
    "    \"\"\"Extract number of search results for a dataframe of countries\"\"\"\n",
    "    for country in countries.index:\n",
    "        #print (country)\n",
    "        if t is 'Web': \n",
    "            urlt = 'https://www.google.com/search?q='+str(country)\n",
    "        if t is 'News': \n",
    "            urlt = 'https://www.google.com/search?tbm=nws&q='+str(country)\n",
    "        rt = requests.get(urlt)\n",
    "        st = BeautifulSoup(rt.text, 'lxml')\n",
    "        result_stats_t = st.find(id='resultStats')\n",
    "        results_t=re.findall('[0-9]', str(result_stats_t))\n",
    "        results=[int(''.join(results_t))]\n",
    "        #print (results)\n",
    "        countries.loc[str(country), t] = int(''.join(results_t))"
   ]
  },
  {
   "cell_type": "code",
   "execution_count": null,
   "metadata": {
    "collapsed": true
   },
   "outputs": [],
   "source": [
    "#google search results for web, be aware this can take around 3 minutes to execute due to number of requests\n",
    "google_search(gdp)"
   ]
  },
  {
   "cell_type": "code",
   "execution_count": null,
   "metadata": {
    "collapsed": true
   },
   "outputs": [],
   "source": [
    "#google search results for news, be aware this can take around 3 minutes to execute due to number of requests\n",
    "google_search(gdp, t='News')"
   ]
  },
  {
   "cell_type": "markdown",
   "metadata": {},
   "source": [
    "## Analysis"
   ]
  },
  {
   "cell_type": "markdown",
   "metadata": {},
   "source": [
    "Preview of final data: five largest and five smallest economies"
   ]
  },
  {
   "cell_type": "code",
   "execution_count": null,
   "metadata": {
    "collapsed": true
   },
   "outputs": [],
   "source": [
    "#function to preview final data\n",
    "def table(data, sort, hlabel, tlabel):\n",
    "    data.columns=data.columns.str.capitalize()\n",
    "    data = data.sort_values(by=str(sort), ascending=False)\n",
    "    table = pd.concat([data.head(5)/1000000, data.tail(5)/1000000], keys=[str(hlabel),str(tlabel)])\n",
    "    table.rename(columns=lambda x: x+' (in millions)', inplace=True)\n",
    "    table_d=table.style.format('{0:,.2f}')\n",
    "    return table_d"
   ]
  },
  {
   "cell_type": "code",
   "execution_count": null,
   "metadata": {
    "collapsed": true
   },
   "outputs": [],
   "source": [
    "#display data for the five largest and the five smallest economies \n",
    "table(gdp, 'Gdp', 'Largest', 'Smallest')"
   ]
  },
  {
   "cell_type": "markdown",
   "metadata": {},
   "source": [
    "I classify the economies as follows:<br/> \n",
    "* Largest: economies with a GDP greater than 100 billion US dollars\n",
    "* Middle: economies with a GDP between 10 billion US dollars and 100 billion US dollars\n",
    "* Smallest: economies with a GDP smaller than 10 billion US dollars"
   ]
  },
  {
   "cell_type": "code",
   "execution_count": null,
   "metadata": {
    "collapsed": true
   },
   "outputs": [],
   "source": [
    "#group of countries created\n",
    "largest = gdp[100000000000<=gdp.Gdp].sort_values(by=['Gdp'], ascending=False)\n",
    "middle = gdp[(10000000000<gdp.Gdp) & (gdp.Gdp<100000000000)].sort_values(by=['Gdp'], ascending=False)\n",
    "smallest = gdp[gdp.Gdp<=10000000000].sort_values(by=['Gdp'])"
   ]
  },
  {
   "cell_type": "code",
   "execution_count": null,
   "metadata": {
    "collapsed": true
   },
   "outputs": [],
   "source": [
    "#function for graphs\n",
    "def graph(group, column1, column2, column3, color, title):\n",
    "    fig = plt.figure(figsize=(9,4))\n",
    "    sub1 = fig.add_subplot(131)\n",
    "    sub1.set_title(column1)\n",
    "    sub1 = group[column1].head(5).plot.barh(color=color)\n",
    "    sub2 = fig.add_subplot(132)\n",
    "    sub2.set_title(column2)\n",
    "    sub2 = group[column2].head(5).plot.barh(color=color)\n",
    "    sub2.set_ylabel(\" \")\n",
    "    sub2.set_yticks([])\n",
    "    sub3 = fig.add_subplot(133)\n",
    "    sub3.set_title(column3)\n",
    "    sub3 = group[column3].head(5).plot.barh(color=color)\n",
    "    sub3.set_ylabel(\" \")\n",
    "    sub3.set_yticks([])\n",
    "    if group is largest:\n",
    "        sub1.invert_yaxis()\n",
    "        sub2.invert_yaxis()\n",
    "        sub3.invert_yaxis()\n",
    "    plt.suptitle(title)\n",
    "    plt.subplots_adjust(wspace=0.03)\n",
    "    plt.show()"
   ]
  },
  {
   "cell_type": "code",
   "execution_count": null,
   "metadata": {
    "collapsed": true
   },
   "outputs": [],
   "source": [
    "#graph of the five largest economies\n",
    "graph(largest, 'Gdp', 'Web', 'News', 'royalblue', 'Five largest economies')"
   ]
  },
  {
   "cell_type": "code",
   "execution_count": null,
   "metadata": {
    "collapsed": true
   },
   "outputs": [],
   "source": [
    "#graph five smallest economies\n",
    "graph(smallest, 'Gdp', 'Web', 'News', 'g', 'Five smallest economies')"
   ]
  },
  {
   "cell_type": "markdown",
   "metadata": {},
   "source": [
    "<a name=\"visualization\"></a>Visualization of relationship between variables, expressed on logarithmic axes."
   ]
  },
  {
   "cell_type": "code",
   "execution_count": null,
   "metadata": {
    "collapsed": true
   },
   "outputs": [],
   "source": [
    "#graph relationship GDP-Web, GDP-News\n",
    "fig = plt.figure(figsize=(10,4))\n",
    "sub1 = fig.add_subplot(121)\n",
    "sub1.set_title('Gdp and Web')\n",
    "sub1.set_xlabel('GDP [in USD] (log scale)')\n",
    "sub1.set_ylabel('Web results [in units] (log scale)')\n",
    "sub1.set_xscale('log') \n",
    "sub1.set_yscale('log')\n",
    "sub1.scatter(gdp['Gdp'], gdp['Web'], color='silver')\n",
    "sub1.scatter(largest['Gdp'], largest['Web'])\n",
    "sub1.scatter(smallest['Gdp'], smallest['Web'], color='g')\n",
    "plt.legend(['middle','largest','smallest'])\n",
    "sub2 = fig.add_subplot(122)\n",
    "sub2.set_title('Gdp and News')\n",
    "sub2.set_xlabel('GDP [in USD] (log scale)')\n",
    "sub2.set_ylabel('News results [in units] (log scale)')\n",
    "sub2.set_xscale('log')\n",
    "sub2.set_yscale('log')\n",
    "sub2.scatter(gdp['Gdp'], gdp['News'], color='silver')\n",
    "sub2.scatter(largest['Gdp'], largest['News'])\n",
    "sub2.scatter(smallest['Gdp'], smallest['News'], color='g')\n",
    "plt.legend(['middle','largest','smallest'])\n",
    "plt.show()"
   ]
  },
  {
   "cell_type": "markdown",
   "metadata": {},
   "source": [
    "<a name=\"spearman\"></a>Spearman correlation coefficient (click [here](http://www.statisticshowto.com/spearman-rank-correlation-definition-calculate/) for definition and calculation)"
   ]
  },
  {
   "cell_type": "code",
   "execution_count": null,
   "metadata": {
    "collapsed": true
   },
   "outputs": [],
   "source": [
    "#spearman correlation for all economies and groups\n",
    "gdp.name = 'All economies'\n",
    "largest.name = 'Largest economies'\n",
    "middle.name = 'Middle economies'\n",
    "smallest.name = 'Smallest economies'\n",
    "for i in ['Web', 'News']:\n",
    "    print ('\\033[1m'+'GDP and '+i+'\\033[0m')\n",
    "    for j in [gdp, largest, middle, smallest]:\n",
    "        j_i = stats.spearmanr(j['Gdp'], j[i])\n",
    "        print (str(j.name)+': Correlation '+ ('{:.2f}').format(j_i[0]))\n",
    "        if j_i[1] < 0.05:\n",
    "            print ('Statistically significant at 5%')"
   ]
  },
  {
   "cell_type": "markdown",
   "metadata": {},
   "source": [
    "## Conclusion"
   ]
  },
  {
   "cell_type": "markdown",
   "metadata": {},
   "source": [
    "There is a moderate positive relationship between GDP and web general results (0.72), as well as, between GDP and web news results (0.73), at the aggregate level of 190 economies. I also evaluated the strength of these relationships at different GDP levels. The Spearman’s rank correlation indicates a weak, but still positive and statistically significant, relationship for middle economies (0.32 GDP-web results, and 0.31 GDP-news results). The extent of correlation displays unevenly for the GDP group of economies considered. This suggests that the moderate positive relationship is valid when considering only all economies. Further analysis related to this project could involve consistency of results using a different search engine and comparison of relationship in different years."
   ]
  }
 ],
 "metadata": {
  "kernelspec": {
   "display_name": "Python 3",
   "language": "python",
   "name": "python3"
  },
  "language_info": {
   "codemirror_mode": {
    "name": "ipython",
    "version": 3
   },
   "file_extension": ".py",
   "mimetype": "text/x-python",
   "name": "python",
   "nbconvert_exporter": "python",
   "pygments_lexer": "ipython3",
   "version": "3.6.3"
  }
 },
 "nbformat": 4,
 "nbformat_minor": 2
}
